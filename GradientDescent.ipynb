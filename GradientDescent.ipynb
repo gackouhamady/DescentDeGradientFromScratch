{
  "cells": [
    {
      "cell_type": "markdown",
      "metadata": {
        "id": "view-in-github",
        "colab_type": "text"
      },
      "source": [
        "<a href=\"https://colab.research.google.com/github/gackouhamady/DescentDeGradientFromScratch/blob/main/GradientDescent.ipynb\" target=\"_parent\"><img src=\"https://colab.research.google.com/assets/colab-badge.svg\" alt=\"Open In Colab\"/></a>"
      ]
    },
    {
      "cell_type": "markdown",
      "id": "80b62491",
      "metadata": {
        "id": "80b62491"
      },
      "source": [
        "# Implémentation de la descente de gradient en Python from Scrath"
      ]
    },
    {
      "cell_type": "markdown",
      "id": "0b0b551c",
      "metadata": {
        "id": "0b0b551c"
      },
      "source": [
        "La descente de gradient est un algorithme d'optimisation qui, dans l'apprentissage automatique, est principalement utilisé pour minimiser une fonction de perte.\n",
        "\n",
        "Dans ce cahier, nous mettrons en œuvre un algorithme simple de descente de gradient à partir de zéro en utilisant Python\n",
        "\n",
        "Cet algorithme de descente de gradient nous aidera à trouver une valeur minimale dans une fonction donnée que nous créerons. "
      ]
    },
    {
      "cell_type": "code",
      "execution_count": null,
      "id": "dd9a0f61",
      "metadata": {
        "id": "dd9a0f61"
      },
      "outputs": [],
      "source": [
        "import numpy as np\n",
        "import matplotlib.pyplot as plt\n",
        "%matplotlib inline"
      ]
    },
    {
      "cell_type": "markdown",
      "id": "cf064c31",
      "metadata": {
        "id": "cf064c31"
      },
      "source": [
        "###   Nous allons trouver le décent de gradient de cette fonction - f(x)=x*x*x-3*x*x+7"
      ]
    },
    {
      "cell_type": "markdown",
      "id": "03b83fd2",
      "metadata": {
        "id": "03b83fd2"
      },
      "source": [
        "Nous pouvons voir que notre valeur minimale devrait se situer autour de 2,0.\n",
        "\n",
        "Utilisons la descente de gradient pour trouver la valeur exacte.\n",
        "\n",
        "Nous allons écrire nos fonctions d'aide :\n",
        "\n",
        "Une fonction qui calcule la dérivée de x\n",
        "\n",
        "Une fonction qui effectue la descente de gradient par étapes"
      ]
    },
    {
      "cell_type": "code",
      "execution_count": 1,
      "id": "f6cd75a5",
      "metadata": {
        "id": "f6cd75a5"
      },
      "outputs": [],
      "source": [
        "def deriv(x):\n",
        "    \n",
        "    '''\n",
        "    Description : Cette fonction prend une valeur de x et renvoie sa dérivée sur la base de la \n",
        "    fonction initiale que nous avons spécifiée.\n",
        "    Arguments :\n",
        "    x - une valeur numérique de x \n",
        "    \n",
        "    Retourne :\n",
        "    \n",
        "    x_deriv - une valeur numérique de la dérivée de x\n",
        "    \n",
        "    '''\n",
        "    x_deriv = 3* (x**2) - (6 * (x))\n",
        "    return x_deriv\n",
        "\n",
        "def step(x_new, x_prev, precision, l_r):\n",
        "    \n",
        "    '''\n",
        "     Description : Cette fonction prend en compte une valeur initiale ou précédente de x, la met à jour en fonction des étapes \n",
        "     franchies via le taux d'apprentissage et produit la valeur minimale la plus élevée de x qui atteint la satisfaction de \n",
        "     précision.\n",
        "    \n",
        "    Arguments :\n",
        "    \n",
        "    x_new - une valeur initiale de x qui sera mise à jour en fonction du taux d'apprentissage\n",
        "    \n",
        "    x_prev - la valeur précédente de x qui sera mise à jour en fonction de la nouvelle valeur.\n",
        "    \n",
        "    precision - une précision qui détermine l'arrêt de la descente progressive \n",
        "    \n",
        "    l_r - le taux d'apprentissage (taille de chaque étape de descenteou learning rate en anglais)\n",
        "    \n",
        "    Sortie :\n",
        "    \n",
        "    1. Imprime la dernière nouvelle valeur de x qui correspond au minimum recherché.\n",
        "    2. Imprime le nombre de valeurs de x qui correspond au nombre d'étapes de descente du gradient.\n",
        "    3. Trace un premier graphique de la fonction avec le chemin de descente du gradient.\n",
        "    4. Trace un second graphique de la fonction avec une trajectoire de descente de gradient agrandie dans la zone importante.\n",
        "    \n",
        "    '''\n",
        "    # créer des listes vides où les valeurs actualisées de x et y seront ajoutées à chaque itération\n",
        "    x_list, y_list = [x_new], [function(x_new)]\n",
        "    # keep looping until your desired precision\n",
        "    while abs(x_new - x_prev) > precision:\n",
        "        \n",
        "        # change the value of x\n",
        "        x_prev = x_new\n",
        "        \n",
        "        # get the derivation of the old value of x\n",
        "        d_x = - deriv(x_prev)\n",
        "        \n",
        "        # get your new value of x by adding the previous, the multiplication of the derivative and the learning rate\n",
        "        x_new = x_prev + (l_r * d_x)\n",
        "        \n",
        "        # append the new value of x to a list of all x-s for later visualization of path\n",
        "        x_list.append(x_new)\n",
        "        \n",
        "        # append the new value of y to a list of all y-s for later visualization of path\n",
        "        y_list.append(function(x_new))\n",
        "\n",
        "    print (\"Local minimum occurs at: \"+ str(x_new))\n",
        "    print (\"Number of steps: \" + str(len(x_list)))\n",
        "    \n",
        "    \n",
        "    \n",
        "    plt.subplot(1,2,2)\n",
        "    plt.scatter(x_list,y_list,c=\"g\")\n",
        "    plt.plot(x_list,y_list,c=\"g\")\n",
        "    plt.plot(x,function(x), c=\"r\")\n",
        "    plt.title(\"Gradient descent\")\n",
        "    plt.show()\n",
        "\n",
        "    plt.subplot(1,2,1)\n",
        "    plt.scatter(x_list,y_list,c=\"g\")\n",
        "    plt.plot(x_list,y_list,c=\"g\")\n",
        "    plt.plot(x,function(x), c=\"r\")\n",
        "    plt.xlim([1.0,2.1])\n",
        "    plt.title(\"Zoomed in Gradient descent to Key Area\")\n",
        "    plt.show()\n",
        "    \n",
        "    "
      ]
    },
    {
      "cell_type": "code",
      "execution_count": null,
      "id": "10f53e23",
      "metadata": {
        "id": "10f53e23",
        "outputId": "ce142780-fbf2-4789-df59-151174d8fb24",
        "colab": {
          "base_uri": "https://localhost:8080/",
          "height": 580
        }
      },
      "outputs": [
        {
          "output_type": "stream",
          "name": "stdout",
          "text": [
            "Local minimum occurs at: 1.9980265135950486\n",
            "Number of steps: 25\n"
          ]
        },
        {
          "output_type": "display_data",
          "data": {
            "text/plain": [
              "<Figure size 432x288 with 1 Axes>"
            ],
            "image/png": "[encoded data removed]"
          },
          "metadata": {
            "needs_background": "light"
          }
        },
        {
          "output_type": "display_data",
          "data": {
            "text/plain": [
              "<Figure size 432x288 with 1 Axes>"
            ],
            "image/png": "[encoded data removed]"
          },
          "metadata": {
            "needs_background": "light"
          }
        }
      ],
      "source": [
        "#Mise en œuvre de la descente de gradient (tous les arguments sont choisis arbitrairement)\n",
        "\n",
        "step(0.5, 0, 0.001, 0.05) "
      ]
    },
    {
      "cell_type": "code",
      "execution_count": null,
      "id": "f04d42f3",
      "metadata": {
        "id": "f04d42f3"
      },
      "outputs": [],
      "source": []
    }
  ],
  "metadata": {
    "kernelspec": {
      "display_name": "Python 3 (ipykernel)",
      "language": "python",
      "name": "python3"
    },
    "language_info": {
      "codemirror_mode": {
        "name": "ipython",
        "version": 3
      },
      "file_extension": ".py",
      "mimetype": "text/x-python",
      "name": "python",
      "nbconvert_exporter": "python",
      "pygments_lexer": "ipython3",
      "version": "3.9.7"
    },
    "colab": {
      "provenance": [],
      "include_colab_link": true
    }
  },
  "nbformat": 4,
  "nbformat_minor": 5
}